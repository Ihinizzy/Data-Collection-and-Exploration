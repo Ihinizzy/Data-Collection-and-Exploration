{
 "cells": [
  {
   "cell_type": "code",
   "execution_count": 13,
   "id": "87f1ab91",
   "metadata": {},
   "outputs": [],
   "source": [
    "import pandas as pd\n",
    "import numpy as np\n",
    "import matplotlib.pyplot as plt"
   ]
  },
  {
   "cell_type": "code",
   "execution_count": 6,
   "id": "082d92d6",
   "metadata": {},
   "outputs": [
    {
     "data": {
      "text/html": [
       "<div>\n",
       "<style scoped>\n",
       "    .dataframe tbody tr th:only-of-type {\n",
       "        vertical-align: middle;\n",
       "    }\n",
       "\n",
       "    .dataframe tbody tr th {\n",
       "        vertical-align: top;\n",
       "    }\n",
       "\n",
       "    .dataframe thead th {\n",
       "        text-align: right;\n",
       "    }\n",
       "</style>\n",
       "<table border=\"1\" class=\"dataframe\">\n",
       "  <thead>\n",
       "    <tr style=\"text-align: right;\">\n",
       "      <th></th>\n",
       "      <th>public_reference</th>\n",
       "      <th>mileage</th>\n",
       "      <th>reg_code</th>\n",
       "      <th>standard_colour</th>\n",
       "      <th>standard_make</th>\n",
       "      <th>standard_model</th>\n",
       "      <th>vehicle_condition</th>\n",
       "      <th>year_of_registration</th>\n",
       "      <th>price</th>\n",
       "      <th>body_type</th>\n",
       "      <th>crossover_car_and_van</th>\n",
       "      <th>fuel_type</th>\n",
       "      <th>make_model</th>\n",
       "      <th>age</th>\n",
       "    </tr>\n",
       "  </thead>\n",
       "  <tbody>\n",
       "    <tr>\n",
       "      <th>0</th>\n",
       "      <td>202010014440649</td>\n",
       "      <td>31534.0</td>\n",
       "      <td>17</td>\n",
       "      <td>Grey</td>\n",
       "      <td>MINI</td>\n",
       "      <td>Hatch</td>\n",
       "      <td>USED</td>\n",
       "      <td>2017.0</td>\n",
       "      <td>19000</td>\n",
       "      <td>Hatchback</td>\n",
       "      <td>False</td>\n",
       "      <td>Petrol</td>\n",
       "      <td>MINI - Hatch</td>\n",
       "      <td>5</td>\n",
       "    </tr>\n",
       "    <tr>\n",
       "      <th>1</th>\n",
       "      <td>202010155026725</td>\n",
       "      <td>52023.0</td>\n",
       "      <td>66</td>\n",
       "      <td>Blue</td>\n",
       "      <td>Volkswagen</td>\n",
       "      <td>Golf</td>\n",
       "      <td>USED</td>\n",
       "      <td>2016.0</td>\n",
       "      <td>13500</td>\n",
       "      <td>Estate</td>\n",
       "      <td>False</td>\n",
       "      <td>Diesel</td>\n",
       "      <td>Volkswagen - Golf</td>\n",
       "      <td>6</td>\n",
       "    </tr>\n",
       "    <tr>\n",
       "      <th>2</th>\n",
       "      <td>202008142485309</td>\n",
       "      <td>29500.0</td>\n",
       "      <td>12</td>\n",
       "      <td>Grey</td>\n",
       "      <td>Mercedes-Benz</td>\n",
       "      <td>C Class</td>\n",
       "      <td>USED</td>\n",
       "      <td>2012.0</td>\n",
       "      <td>9495</td>\n",
       "      <td>Saloon</td>\n",
       "      <td>False</td>\n",
       "      <td>Petrol</td>\n",
       "      <td>Mercedes-Benz - C Class</td>\n",
       "      <td>10</td>\n",
       "    </tr>\n",
       "    <tr>\n",
       "      <th>3</th>\n",
       "      <td>202009183894045</td>\n",
       "      <td>35300.0</td>\n",
       "      <td>18</td>\n",
       "      <td>Grey</td>\n",
       "      <td>Vauxhall</td>\n",
       "      <td>Corsa</td>\n",
       "      <td>USED</td>\n",
       "      <td>2018.0</td>\n",
       "      <td>7293</td>\n",
       "      <td>Hatchback</td>\n",
       "      <td>False</td>\n",
       "      <td>Petrol</td>\n",
       "      <td>Vauxhall - Corsa</td>\n",
       "      <td>4</td>\n",
       "    </tr>\n",
       "    <tr>\n",
       "      <th>4</th>\n",
       "      <td>202010014441671</td>\n",
       "      <td>47299.0</td>\n",
       "      <td>65</td>\n",
       "      <td>Black</td>\n",
       "      <td>Nissan</td>\n",
       "      <td>Qashqai</td>\n",
       "      <td>USED</td>\n",
       "      <td>2016.0</td>\n",
       "      <td>11500</td>\n",
       "      <td>SUV</td>\n",
       "      <td>False</td>\n",
       "      <td>Diesel</td>\n",
       "      <td>Nissan - Qashqai</td>\n",
       "      <td>6</td>\n",
       "    </tr>\n",
       "    <tr>\n",
       "      <th>...</th>\n",
       "      <td>...</td>\n",
       "      <td>...</td>\n",
       "      <td>...</td>\n",
       "      <td>...</td>\n",
       "      <td>...</td>\n",
       "      <td>...</td>\n",
       "      <td>...</td>\n",
       "      <td>...</td>\n",
       "      <td>...</td>\n",
       "      <td>...</td>\n",
       "      <td>...</td>\n",
       "      <td>...</td>\n",
       "      <td>...</td>\n",
       "      <td>...</td>\n",
       "    </tr>\n",
       "    <tr>\n",
       "      <th>96264</th>\n",
       "      <td>202010295556637</td>\n",
       "      <td>28225.0</td>\n",
       "      <td>17</td>\n",
       "      <td>White</td>\n",
       "      <td>Mercedes-Benz</td>\n",
       "      <td>C Class</td>\n",
       "      <td>USED</td>\n",
       "      <td>2017.0</td>\n",
       "      <td>18499</td>\n",
       "      <td>Saloon</td>\n",
       "      <td>False</td>\n",
       "      <td>Diesel</td>\n",
       "      <td>Mercedes-Benz - C Class</td>\n",
       "      <td>5</td>\n",
       "    </tr>\n",
       "    <tr>\n",
       "      <th>96265</th>\n",
       "      <td>202010305614799</td>\n",
       "      <td>122000.0</td>\n",
       "      <td>07</td>\n",
       "      <td>Silver</td>\n",
       "      <td>BMW</td>\n",
       "      <td>3 Series</td>\n",
       "      <td>USED</td>\n",
       "      <td>2007.0</td>\n",
       "      <td>1990</td>\n",
       "      <td>Saloon</td>\n",
       "      <td>False</td>\n",
       "      <td>Petrol</td>\n",
       "      <td>BMW - 3 Series</td>\n",
       "      <td>15</td>\n",
       "    </tr>\n",
       "    <tr>\n",
       "      <th>96266</th>\n",
       "      <td>202010315639231</td>\n",
       "      <td>45000.0</td>\n",
       "      <td>15</td>\n",
       "      <td>Silver</td>\n",
       "      <td>Vauxhall</td>\n",
       "      <td>Corsa</td>\n",
       "      <td>USED</td>\n",
       "      <td>2015.0</td>\n",
       "      <td>5000</td>\n",
       "      <td>Hatchback</td>\n",
       "      <td>False</td>\n",
       "      <td>Petrol</td>\n",
       "      <td>Vauxhall - Corsa</td>\n",
       "      <td>7</td>\n",
       "    </tr>\n",
       "    <tr>\n",
       "      <th>96267</th>\n",
       "      <td>202010315647416</td>\n",
       "      <td>4075.0</td>\n",
       "      <td>69</td>\n",
       "      <td>Grey</td>\n",
       "      <td>Nissan</td>\n",
       "      <td>Juke</td>\n",
       "      <td>USED</td>\n",
       "      <td>2019.0</td>\n",
       "      <td>18000</td>\n",
       "      <td>SUV</td>\n",
       "      <td>False</td>\n",
       "      <td>Petrol</td>\n",
       "      <td>Nissan - Juke</td>\n",
       "      <td>3</td>\n",
       "    </tr>\n",
       "    <tr>\n",
       "      <th>96268</th>\n",
       "      <td>202010315659271</td>\n",
       "      <td>52760.0</td>\n",
       "      <td>62</td>\n",
       "      <td>White</td>\n",
       "      <td>Nissan</td>\n",
       "      <td>Qashqai</td>\n",
       "      <td>USED</td>\n",
       "      <td>2012.0</td>\n",
       "      <td>7250</td>\n",
       "      <td>SUV</td>\n",
       "      <td>False</td>\n",
       "      <td>Petrol</td>\n",
       "      <td>Nissan - Qashqai</td>\n",
       "      <td>10</td>\n",
       "    </tr>\n",
       "  </tbody>\n",
       "</table>\n",
       "<p>96269 rows × 14 columns</p>\n",
       "</div>"
      ],
      "text/plain": [
       "       public_reference   mileage reg_code standard_colour  standard_make  \\\n",
       "0       202010014440649   31534.0       17            Grey           MINI   \n",
       "1       202010155026725   52023.0       66            Blue     Volkswagen   \n",
       "2       202008142485309   29500.0       12            Grey  Mercedes-Benz   \n",
       "3       202009183894045   35300.0       18            Grey       Vauxhall   \n",
       "4       202010014441671   47299.0       65           Black         Nissan   \n",
       "...                 ...       ...      ...             ...            ...   \n",
       "96264   202010295556637   28225.0       17           White  Mercedes-Benz   \n",
       "96265   202010305614799  122000.0       07          Silver            BMW   \n",
       "96266   202010315639231   45000.0       15          Silver       Vauxhall   \n",
       "96267   202010315647416    4075.0       69            Grey         Nissan   \n",
       "96268   202010315659271   52760.0       62           White         Nissan   \n",
       "\n",
       "      standard_model vehicle_condition  year_of_registration  price  \\\n",
       "0              Hatch              USED                2017.0  19000   \n",
       "1               Golf              USED                2016.0  13500   \n",
       "2            C Class              USED                2012.0   9495   \n",
       "3              Corsa              USED                2018.0   7293   \n",
       "4            Qashqai              USED                2016.0  11500   \n",
       "...              ...               ...                   ...    ...   \n",
       "96264        C Class              USED                2017.0  18499   \n",
       "96265       3 Series              USED                2007.0   1990   \n",
       "96266          Corsa              USED                2015.0   5000   \n",
       "96267           Juke              USED                2019.0  18000   \n",
       "96268        Qashqai              USED                2012.0   7250   \n",
       "\n",
       "       body_type  crossover_car_and_van fuel_type               make_model  \\\n",
       "0      Hatchback                  False    Petrol             MINI - Hatch   \n",
       "1         Estate                  False    Diesel        Volkswagen - Golf   \n",
       "2         Saloon                  False    Petrol  Mercedes-Benz - C Class   \n",
       "3      Hatchback                  False    Petrol         Vauxhall - Corsa   \n",
       "4            SUV                  False    Diesel         Nissan - Qashqai   \n",
       "...          ...                    ...       ...                      ...   \n",
       "96264     Saloon                  False    Diesel  Mercedes-Benz - C Class   \n",
       "96265     Saloon                  False    Petrol           BMW - 3 Series   \n",
       "96266  Hatchback                  False    Petrol         Vauxhall - Corsa   \n",
       "96267        SUV                  False    Petrol            Nissan - Juke   \n",
       "96268        SUV                  False    Petrol         Nissan - Qashqai   \n",
       "\n",
       "       age  \n",
       "0        5  \n",
       "1        6  \n",
       "2       10  \n",
       "3        4  \n",
       "4        6  \n",
       "...    ...  \n",
       "96264    5  \n",
       "96265   15  \n",
       "96266    7  \n",
       "96267    3  \n",
       "96268   10  \n",
       "\n",
       "[96269 rows x 14 columns]"
      ]
     },
     "execution_count": 6,
     "metadata": {},
     "output_type": "execute_result"
    }
   ],
   "source": [
    "data = pd.read_csv(\"vehicle_trade_data.csv\")\n",
    "data"
   ]
  },
  {
   "cell_type": "code",
   "execution_count": 8,
   "id": "b6c00d73",
   "metadata": {},
   "outputs": [
    {
     "name": "stdout",
     "output_type": "stream",
     "text": [
      "<class 'pandas.core.frame.DataFrame'>\n",
      "RangeIndex: 96269 entries, 0 to 96268\n",
      "Data columns (total 14 columns):\n",
      " #   Column                 Non-Null Count  Dtype  \n",
      "---  ------                 --------------  -----  \n",
      " 0   public_reference       96269 non-null  int64  \n",
      " 1   mileage                96247 non-null  float64\n",
      " 2   reg_code               96257 non-null  object \n",
      " 3   standard_colour        96269 non-null  object \n",
      " 4   standard_make          96269 non-null  object \n",
      " 5   standard_model         96269 non-null  object \n",
      " 6   vehicle_condition      96269 non-null  object \n",
      " 7   year_of_registration   96269 non-null  float64\n",
      " 8   price                  96269 non-null  int64  \n",
      " 9   body_type              96269 non-null  object \n",
      " 10  crossover_car_and_van  96269 non-null  bool   \n",
      " 11  fuel_type              96269 non-null  object \n",
      " 12  make_model             96269 non-null  object \n",
      " 13  age                    96269 non-null  int64  \n",
      "dtypes: bool(1), float64(2), int64(3), object(8)\n",
      "memory usage: 6.7+ MB\n"
     ]
    }
   ],
   "source": [
    "data.info()"
   ]
  },
  {
   "cell_type": "code",
   "execution_count": 9,
   "id": "54eb1349",
   "metadata": {},
   "outputs": [
    {
     "data": {
      "text/html": [
       "<div>\n",
       "<style scoped>\n",
       "    .dataframe tbody tr th:only-of-type {\n",
       "        vertical-align: middle;\n",
       "    }\n",
       "\n",
       "    .dataframe tbody tr th {\n",
       "        vertical-align: top;\n",
       "    }\n",
       "\n",
       "    .dataframe thead th {\n",
       "        text-align: right;\n",
       "    }\n",
       "</style>\n",
       "<table border=\"1\" class=\"dataframe\">\n",
       "  <thead>\n",
       "    <tr style=\"text-align: right;\">\n",
       "      <th></th>\n",
       "      <th>public_reference</th>\n",
       "      <th>mileage</th>\n",
       "      <th>year_of_registration</th>\n",
       "      <th>price</th>\n",
       "      <th>age</th>\n",
       "    </tr>\n",
       "  </thead>\n",
       "  <tbody>\n",
       "    <tr>\n",
       "      <th>count</th>\n",
       "      <td>9.626900e+04</td>\n",
       "      <td>96247.000000</td>\n",
       "      <td>96269.000000</td>\n",
       "      <td>96269.000000</td>\n",
       "      <td>96269.000000</td>\n",
       "    </tr>\n",
       "    <tr>\n",
       "      <th>mean</th>\n",
       "      <td>2.020082e+14</td>\n",
       "      <td>42964.067150</td>\n",
       "      <td>2015.096075</td>\n",
       "      <td>12266.081615</td>\n",
       "      <td>6.903925</td>\n",
       "    </tr>\n",
       "    <tr>\n",
       "      <th>std</th>\n",
       "      <td>1.194558e+10</td>\n",
       "      <td>34051.708175</td>\n",
       "      <td>3.766205</td>\n",
       "      <td>7414.823331</td>\n",
       "      <td>3.766205</td>\n",
       "    </tr>\n",
       "    <tr>\n",
       "      <th>min</th>\n",
       "      <td>2.014120e+14</td>\n",
       "      <td>0.000000</td>\n",
       "      <td>1962.000000</td>\n",
       "      <td>200.000000</td>\n",
       "      <td>2.000000</td>\n",
       "    </tr>\n",
       "    <tr>\n",
       "      <th>25%</th>\n",
       "      <td>2.020091e+14</td>\n",
       "      <td>17000.000000</td>\n",
       "      <td>2013.000000</td>\n",
       "      <td>6999.000000</td>\n",
       "      <td>4.000000</td>\n",
       "    </tr>\n",
       "    <tr>\n",
       "      <th>50%</th>\n",
       "      <td>2.020100e+14</td>\n",
       "      <td>34352.000000</td>\n",
       "      <td>2016.000000</td>\n",
       "      <td>11030.000000</td>\n",
       "      <td>6.000000</td>\n",
       "    </tr>\n",
       "    <tr>\n",
       "      <th>75%</th>\n",
       "      <td>2.020102e+14</td>\n",
       "      <td>62000.000000</td>\n",
       "      <td>2018.000000</td>\n",
       "      <td>15999.000000</td>\n",
       "      <td>9.000000</td>\n",
       "    </tr>\n",
       "    <tr>\n",
       "      <th>max</th>\n",
       "      <td>2.020110e+14</td>\n",
       "      <td>999999.000000</td>\n",
       "      <td>2020.000000</td>\n",
       "      <td>158500.000000</td>\n",
       "      <td>60.000000</td>\n",
       "    </tr>\n",
       "  </tbody>\n",
       "</table>\n",
       "</div>"
      ],
      "text/plain": [
       "       public_reference        mileage  year_of_registration          price  \\\n",
       "count      9.626900e+04   96247.000000          96269.000000   96269.000000   \n",
       "mean       2.020082e+14   42964.067150           2015.096075   12266.081615   \n",
       "std        1.194558e+10   34051.708175              3.766205    7414.823331   \n",
       "min        2.014120e+14       0.000000           1962.000000     200.000000   \n",
       "25%        2.020091e+14   17000.000000           2013.000000    6999.000000   \n",
       "50%        2.020100e+14   34352.000000           2016.000000   11030.000000   \n",
       "75%        2.020102e+14   62000.000000           2018.000000   15999.000000   \n",
       "max        2.020110e+14  999999.000000           2020.000000  158500.000000   \n",
       "\n",
       "                age  \n",
       "count  96269.000000  \n",
       "mean       6.903925  \n",
       "std        3.766205  \n",
       "min        2.000000  \n",
       "25%        4.000000  \n",
       "50%        6.000000  \n",
       "75%        9.000000  \n",
       "max       60.000000  "
      ]
     },
     "execution_count": 9,
     "metadata": {},
     "output_type": "execute_result"
    }
   ],
   "source": [
    "data.describe()"
   ]
  },
  {
   "cell_type": "code",
   "execution_count": 10,
   "id": "5021a9ef",
   "metadata": {},
   "outputs": [
    {
     "data": {
      "text/html": [
       "<div>\n",
       "<style scoped>\n",
       "    .dataframe tbody tr th:only-of-type {\n",
       "        vertical-align: middle;\n",
       "    }\n",
       "\n",
       "    .dataframe tbody tr th {\n",
       "        vertical-align: top;\n",
       "    }\n",
       "\n",
       "    .dataframe thead th {\n",
       "        text-align: right;\n",
       "    }\n",
       "</style>\n",
       "<table border=\"1\" class=\"dataframe\">\n",
       "  <thead>\n",
       "    <tr style=\"text-align: right;\">\n",
       "      <th></th>\n",
       "      <th>reg_code</th>\n",
       "      <th>standard_colour</th>\n",
       "      <th>standard_make</th>\n",
       "      <th>standard_model</th>\n",
       "      <th>vehicle_condition</th>\n",
       "      <th>body_type</th>\n",
       "      <th>fuel_type</th>\n",
       "      <th>make_model</th>\n",
       "    </tr>\n",
       "  </thead>\n",
       "  <tbody>\n",
       "    <tr>\n",
       "      <th>count</th>\n",
       "      <td>96257</td>\n",
       "      <td>96269</td>\n",
       "      <td>96269</td>\n",
       "      <td>96269</td>\n",
       "      <td>96269</td>\n",
       "      <td>96269</td>\n",
       "      <td>96269</td>\n",
       "      <td>96269</td>\n",
       "    </tr>\n",
       "    <tr>\n",
       "      <th>unique</th>\n",
       "      <td>58</td>\n",
       "      <td>5</td>\n",
       "      <td>11</td>\n",
       "      <td>19</td>\n",
       "      <td>1</td>\n",
       "      <td>5</td>\n",
       "      <td>2</td>\n",
       "      <td>19</td>\n",
       "    </tr>\n",
       "    <tr>\n",
       "      <th>top</th>\n",
       "      <td>17</td>\n",
       "      <td>Black</td>\n",
       "      <td>BMW</td>\n",
       "      <td>Golf</td>\n",
       "      <td>USED</td>\n",
       "      <td>Hatchback</td>\n",
       "      <td>Petrol</td>\n",
       "      <td>Volkswagen - Golf</td>\n",
       "    </tr>\n",
       "    <tr>\n",
       "      <th>freq</th>\n",
       "      <td>10218</td>\n",
       "      <td>26479</td>\n",
       "      <td>16585</td>\n",
       "      <td>8975</td>\n",
       "      <td>96269</td>\n",
       "      <td>59227</td>\n",
       "      <td>54805</td>\n",
       "      <td>8975</td>\n",
       "    </tr>\n",
       "  </tbody>\n",
       "</table>\n",
       "</div>"
      ],
      "text/plain": [
       "       reg_code standard_colour standard_make standard_model  \\\n",
       "count     96257           96269         96269          96269   \n",
       "unique       58               5            11             19   \n",
       "top          17           Black           BMW           Golf   \n",
       "freq      10218           26479         16585           8975   \n",
       "\n",
       "       vehicle_condition  body_type fuel_type         make_model  \n",
       "count              96269      96269     96269              96269  \n",
       "unique                 1          5         2                 19  \n",
       "top                 USED  Hatchback    Petrol  Volkswagen - Golf  \n",
       "freq               96269      59227     54805               8975  "
      ]
     },
     "execution_count": 10,
     "metadata": {},
     "output_type": "execute_result"
    }
   ],
   "source": [
    "data.describe(include=[\"O\"])"
   ]
  },
  {
   "cell_type": "code",
   "execution_count": 11,
   "id": "9d6a1ebf",
   "metadata": {},
   "outputs": [
    {
     "data": {
      "text/plain": [
       "array(['Petrol', 'Diesel'], dtype=object)"
      ]
     },
     "execution_count": 11,
     "metadata": {},
     "output_type": "execute_result"
    }
   ],
   "source": [
    "data.fuel_type.unique()"
   ]
  },
  {
   "cell_type": "code",
   "execution_count": 12,
   "id": "047b3ac0",
   "metadata": {},
   "outputs": [
    {
     "data": {
      "text/html": [
       "<div>\n",
       "<style scoped>\n",
       "    .dataframe tbody tr th:only-of-type {\n",
       "        vertical-align: middle;\n",
       "    }\n",
       "\n",
       "    .dataframe tbody tr th {\n",
       "        vertical-align: top;\n",
       "    }\n",
       "\n",
       "    .dataframe thead th {\n",
       "        text-align: right;\n",
       "    }\n",
       "</style>\n",
       "<table border=\"1\" class=\"dataframe\">\n",
       "  <thead>\n",
       "    <tr style=\"text-align: right;\">\n",
       "      <th></th>\n",
       "      <th>index</th>\n",
       "      <th>fuel_type</th>\n",
       "    </tr>\n",
       "  </thead>\n",
       "  <tbody>\n",
       "    <tr>\n",
       "      <th>0</th>\n",
       "      <td>Petrol</td>\n",
       "      <td>54805</td>\n",
       "    </tr>\n",
       "    <tr>\n",
       "      <th>1</th>\n",
       "      <td>Diesel</td>\n",
       "      <td>41464</td>\n",
       "    </tr>\n",
       "  </tbody>\n",
       "</table>\n",
       "</div>"
      ],
      "text/plain": [
       "    index  fuel_type\n",
       "0  Petrol      54805\n",
       "1  Diesel      41464"
      ]
     },
     "execution_count": 12,
     "metadata": {},
     "output_type": "execute_result"
    }
   ],
   "source": [
    "values_of_fuel_type = data.fuel_type.value_counts().reset_index()\n",
    "values_of_fuel_type"
   ]
  },
  {
   "cell_type": "code",
   "execution_count": 27,
   "id": "d45af987",
   "metadata": {},
   "outputs": [
    {
     "data": {
      "text/plain": [
       "<function matplotlib.pyplot.show(close=None, block=None)>"
      ]
     },
     "execution_count": 27,
     "metadata": {},
     "output_type": "execute_result"
    },
    {
     "data": {
      "image/png": "[encoded data removed]",
      "text/plain": [
       "<Figure size 432x288 with 1 Axes>"
      ]
     },
     "metadata": {
      "needs_background": "light"
     },
     "output_type": "display_data"
    }
   ],
   "source": [
    "plt.bar(values_of_fuel_type.index, values_of_fuel_type.fuel_type, color = [\"y\", \"g\"])\n",
    "plt.show"
   ]
  },
  {
   "cell_type": "code",
   "execution_count": 40,
   "id": "b50be4ac",
   "metadata": {},
   "outputs": [],
   "source": [
    "petrol = data[data.fuel_type == \"Petrol\"]\n",
    "diesel = data[data.fuel_type == \"Diesel\"]"
   ]
  },
  {
   "cell_type": "code",
   "execution_count": 41,
   "id": "a0b13a5b",
   "metadata": {},
   "outputs": [
    {
     "data": {
      "text/plain": [
       "Text(0, 0.5, 'age')"
      ]
     },
     "execution_count": 41,
     "metadata": {},
     "output_type": "execute_result"
    },
    {
     "data": {
      "image/png": "[encoded data removed]",
      "text/plain": [
       "<Figure size 432x288 with 1 Axes>"
      ]
     },
     "metadata": {
      "needs_background": "light"
     },
     "output_type": "display_data"
    }
   ],
   "source": [
    "plt.scatter(petrol.price,petrol.age, color = 'y', label = \"P\")\n",
    "plt.scatter(diesel.price,diesel.age, color = 'g', label = \"D\")\n",
    "plt.legend()\n",
    "plt.title(\"Fuel Type\", fontsize=20 )\n",
    "plt.xlabel(\"price\")\n",
    "plt.ylabel(\"age\")"
   ]
  },
  {
   "cell_type": "code",
   "execution_count": 24,
   "id": "b1e8f094",
   "metadata": {},
   "outputs": [
    {
     "data": {
      "text/plain": [
       "array(['Hatchback', 'Estate', 'Saloon', 'SUV', 'Coupe'], dtype=object)"
      ]
     },
     "execution_count": 24,
     "metadata": {},
     "output_type": "execute_result"
    }
   ],
   "source": [
    "data.body_type.unique()"
   ]
  },
  {
   "cell_type": "code",
   "execution_count": 25,
   "id": "d1407b4d",
   "metadata": {},
   "outputs": [
    {
     "data": {
      "text/html": [
       "<div>\n",
       "<style scoped>\n",
       "    .dataframe tbody tr th:only-of-type {\n",
       "        vertical-align: middle;\n",
       "    }\n",
       "\n",
       "    .dataframe tbody tr th {\n",
       "        vertical-align: top;\n",
       "    }\n",
       "\n",
       "    .dataframe thead th {\n",
       "        text-align: right;\n",
       "    }\n",
       "</style>\n",
       "<table border=\"1\" class=\"dataframe\">\n",
       "  <thead>\n",
       "    <tr style=\"text-align: right;\">\n",
       "      <th></th>\n",
       "      <th>index</th>\n",
       "      <th>body_type</th>\n",
       "    </tr>\n",
       "  </thead>\n",
       "  <tbody>\n",
       "    <tr>\n",
       "      <th>0</th>\n",
       "      <td>Hatchback</td>\n",
       "      <td>59227</td>\n",
       "    </tr>\n",
       "    <tr>\n",
       "      <th>1</th>\n",
       "      <td>Saloon</td>\n",
       "      <td>14235</td>\n",
       "    </tr>\n",
       "    <tr>\n",
       "      <th>2</th>\n",
       "      <td>SUV</td>\n",
       "      <td>13202</td>\n",
       "    </tr>\n",
       "    <tr>\n",
       "      <th>3</th>\n",
       "      <td>Estate</td>\n",
       "      <td>6095</td>\n",
       "    </tr>\n",
       "    <tr>\n",
       "      <th>4</th>\n",
       "      <td>Coupe</td>\n",
       "      <td>3510</td>\n",
       "    </tr>\n",
       "  </tbody>\n",
       "</table>\n",
       "</div>"
      ],
      "text/plain": [
       "       index  body_type\n",
       "0  Hatchback      59227\n",
       "1     Saloon      14235\n",
       "2        SUV      13202\n",
       "3     Estate       6095\n",
       "4      Coupe       3510"
      ]
     },
     "execution_count": 25,
     "metadata": {},
     "output_type": "execute_result"
    }
   ],
   "source": [
    "values_of_body_type = data.body_type.value_counts().reset_index()\n",
    "values_of_body_type"
   ]
  },
  {
   "cell_type": "code",
   "execution_count": 35,
   "id": "2b25ad97",
   "metadata": {},
   "outputs": [
    {
     "data": {
      "text/plain": [
       "<function matplotlib.pyplot.show(close=None, block=None)>"
      ]
     },
     "execution_count": 35,
     "metadata": {},
     "output_type": "execute_result"
    },
    {
     "data": {
      "image/png": "[encoded data removed]",
      "text/plain": [
       "<Figure size 432x288 with 1 Axes>"
      ]
     },
     "metadata": {
      "needs_background": "light"
     },
     "output_type": "display_data"
    }
   ],
   "source": [
    "plt.bar(values_of_body_type.index, values_of_body_type.body_type, color = [\"r\", \"b\", \"y\", \"g\", \"m\"])\n",
    "plt.show"
   ]
  },
  {
   "cell_type": "code",
   "execution_count": 31,
   "id": "13fcce1b",
   "metadata": {},
   "outputs": [],
   "source": [
    "hat = data[data.body_type == \"Hatchback\"]\n",
    "sal = data[data.body_type == \"Saloon\"]\n",
    "suv = data[data.body_type == \"SUV\"]\n",
    "est = data[data.body_type == \"Estate\"]\n",
    "cou = data[data.body_type == \"Coupe\"]"
   ]
  },
  {
   "cell_type": "code",
   "execution_count": 39,
   "id": "586f090b",
   "metadata": {},
   "outputs": [
    {
     "data": {
      "text/plain": [
       "Text(0, 0.5, 'year_of_registration')"
      ]
     },
     "execution_count": 39,
     "metadata": {},
     "output_type": "execute_result"
    },
    {
     "data": {
      "image/png": "[encoded data removed]",
      "text/plain": [
       "<Figure size 432x288 with 1 Axes>"
      ]
     },
     "metadata": {
      "needs_background": "light"
     },
     "output_type": "display_data"
    }
   ],
   "source": [
    "plt.scatter(hat.price,hat.year_of_registration, color = 'r', label = \"H\")\n",
    "plt.scatter(sal.price,sal.year_of_registration, color = 'b', label = \"S\")\n",
    "plt.scatter(suv.price,suv.year_of_registration, color = 'y', label = \"Su\")\n",
    "plt.scatter(est.price,est.year_of_registration, color = 'g', label = \"E\")\n",
    "plt.scatter(cou.price,cou.year_of_registration, color = 'm', label = \"C\")\n",
    "plt.legend()\n",
    "\n",
    "plt.title(\"Body Type\", fontsize=20 )\n",
    "plt.xlabel(\"price\")\n",
    "plt.ylabel(\"year_of_registration\")"
   ]
  },
  {
   "cell_type": "code",
   "execution_count": null,
   "id": "0428c305",
   "metadata": {},
   "outputs": [],
   "source": []
  }
 ],
 "metadata": {
  "kernelspec": {
   "display_name": "Python 3 (ipykernel)",
   "language": "python",
   "name": "python3"
  },
  "language_info": {
   "codemirror_mode": {
    "name": "ipython",
    "version": 3
   },
   "file_extension": ".py",
   "mimetype": "text/x-python",
   "name": "python",
   "nbconvert_exporter": "python",
   "pygments_lexer": "ipython3",
   "version": "3.7.9"
  }
 },
 "nbformat": 4,
 "nbformat_minor": 5
}
